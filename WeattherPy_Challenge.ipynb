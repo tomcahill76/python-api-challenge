{
 "metadata": {
  "language_info": {
   "codemirror_mode": {
    "name": "ipython",
    "version": 3
   },
   "file_extension": ".py",
   "mimetype": "text/x-python",
   "name": "python",
   "nbconvert_exporter": "python",
   "pygments_lexer": "ipython3",
   "version": "3.8.5-final"
  },
  "orig_nbformat": 2,
  "kernelspec": {
   "name": "python3",
   "display_name": "Python 3",
   "language": "python"
  }
 },
 "nbformat": 4,
 "nbformat_minor": 2,
 "cells": [
  {
   "cell_type": "code",
   "execution_count": 1,
   "metadata": {},
   "outputs": [
    {
     "output_type": "error",
     "ename": "ModuleNotFoundError",
     "evalue": "No module named 'api_keys'",
     "traceback": [
      "\u001b[1;31m---------------------------------------------------------------------------\u001b[0m",
      "\u001b[1;31mModuleNotFoundError\u001b[0m                       Traceback (most recent call last)",
      "\u001b[1;32m<ipython-input-1-2ec995317510>\u001b[0m in \u001b[0;36m<module>\u001b[1;34m\u001b[0m\n\u001b[0;32m      5\u001b[0m \u001b[1;32mfrom\u001b[0m \u001b[0mscipy\u001b[0m \u001b[1;32mimport\u001b[0m \u001b[0mstats\u001b[0m\u001b[1;33m\u001b[0m\u001b[1;33m\u001b[0m\u001b[0m\n\u001b[0;32m      6\u001b[0m \u001b[1;32mimport\u001b[0m \u001b[0mpandas\u001b[0m \u001b[1;32mas\u001b[0m \u001b[0mpd\u001b[0m\u001b[1;33m\u001b[0m\u001b[1;33m\u001b[0m\u001b[0m\n\u001b[1;32m----> 7\u001b[1;33m \u001b[1;32mfrom\u001b[0m \u001b[0mapi_keys\u001b[0m \u001b[1;32mimport\u001b[0m \u001b[0mweather_api_key\u001b[0m\u001b[1;33m\u001b[0m\u001b[1;33m\u001b[0m\u001b[0m\n\u001b[0m\u001b[0;32m      8\u001b[0m \u001b[1;32mfrom\u001b[0m \u001b[0mcitipy\u001b[0m \u001b[1;32mimport\u001b[0m \u001b[0mcitipy\u001b[0m\u001b[1;33m\u001b[0m\u001b[1;33m\u001b[0m\u001b[0m\n\u001b[0;32m      9\u001b[0m \u001b[1;32mimport\u001b[0m \u001b[0mnumpy\u001b[0m \u001b[1;32mas\u001b[0m \u001b[0mnp\u001b[0m\u001b[1;33m\u001b[0m\u001b[1;33m\u001b[0m\u001b[0m\n",
      "\u001b[1;31mModuleNotFoundError\u001b[0m: No module named 'api_keys'"
     ]
    }
   ],
   "source": [
    "# Bring in dependancies\n",
    "\n",
    "import matplotlib.pyplot as plt\n",
    "import requests\n",
    "from scipy import stats\n",
    "import pandas as pd\n",
    "from api_keys import weather_api_key\n",
    "from citipy import citipy\n",
    "import numpy as np \n",
    "\n",
    "latitude_range = (-90,90)\n",
    "longitude_range = (-180, 180)\n",
    "\n"
   ]
  },
  {
   "cell_type": "code",
   "execution_count": null,
   "metadata": {},
   "outputs": [],
   "source": [
    "#Create a list of cites\n",
    "\n",
    "#cities = [\"Perth\",\"Columbus\",\"Paris\",\"London\",\"Oslo\",\"Beijing\",\"Mumbai\",\"Manila\",\"New York\",\"Seattle\",\"Dallas\",\"Taipei\",\"Melbourne\",\"Sydney\",\"Auckland\",\"Rio De Janeiro\",\"Brisbane\",\"Dawin\"]\n",
    "\n",
    "# create random latitidues and longitudes\n",
    "\n",
    "lats =[]\n",
    "lngs = []\n",
    "\n",
    "\n",
    "for c in range(0,600):\n",
    "    latitude = (np.random.uniform(low=-90.000, high = 90.000))\n",
    "    longitude = (np.random.uniform(low=-180.000, high=180.000))\n",
    "    lats.append(latitude)\n",
    "    lngs.append(longitude)\n",
    "\n",
    "latitidue_Longitude =pd.DataFrame({\"Lat\":lats,\"Lngs\":lngs})\n",
    "\n",
    "\n"
   ]
  },
  {
   "cell_type": "code",
   "execution_count": null,
   "metadata": {},
   "outputs": [],
   "source": [
    "latitidue_Longitude"
   ]
  },
  {
   "cell_type": "code",
   "execution_count": null,
   "metadata": {},
   "outputs": [],
   "source": [
    "citipy.nearest_city(-76.773517, 136.434459).city_name"
   ]
  },
  {
   "cell_type": "code",
   "execution_count": null,
   "metadata": {},
   "outputs": [],
   "source": [
    "cities = []\n",
    "for index, row in latitidue_Longitude.iterrows():\n",
    "    city = citipy.nearest_city(row[\"Lat\"], row[\"Lngs\"]).city_name\n",
    "    if city not in cities:\n",
    "        cities.append(city)"
   ]
  },
  {
   "cell_type": "code",
   "execution_count": null,
   "metadata": {},
   "outputs": [],
   "source": [
    "cities"
   ]
  },
  {
   "cell_type": "code",
   "execution_count": null,
   "metadata": {},
   "outputs": [],
   "source": [
    "len(cities)"
   ]
  },
  {
   "cell_type": "code",
   "execution_count": null,
   "metadata": {},
   "outputs": [],
   "source": [
    "# List to hold responses\n",
    "\n",
    "city = []\n",
    "latitude = []\n",
    "longitude = []\n",
    "cloudiness = []\n",
    "wind_speed = []\n",
    "temperature = []\n",
    "humidity = []\n",
    "\n",
    "url = \"http://api.openweathermap.org/data/2.5/weather?\"\n",
    "units = \"metric\"\n",
    "\n",
    "# # Build partial query URL\n",
    "query_url = f\"{url}&appid={weather_api_key}&units={units}&q=\"\n",
    "\n",
    "\n",
    "# Examples of API calls\n",
    "\n",
    "#\"http://api.openweathermap.org/data/2.5/weather?id=2172797&appid=c5111601fc78ea01da54d3099c654f0c\"\n",
    "\n",
    "\n",
    "# api.openweathermap.org/data/2.5/weather?id=2172797&appid=\"\""
   ]
  },
  {
   "cell_type": "code",
   "execution_count": null,
   "metadata": {},
   "outputs": [],
   "source": [
    "cities"
   ]
  },
  {
   "source": [
    "\n",
    "print(\"Print Log \")\n",
    "print(\"-----------------------------\")\n",
    "\n",
    "#Create for loop to go call the cities\n",
    "for x in cities:\n",
    "    response = requests.get(query_url+x).json()\n",
    "    print(query_url+x)\n",
    "    try:\n",
    "        city.append(response[\"name\"])\n",
    "    except:\n",
    "        city.append(np.nan)\n",
    "        print(\"City not found\")\n",
    "        pass\n",
    "    try:\n",
    "        latitude.append(response['coord']['lat'])\n",
    "    except:\n",
    "        latitude.append(np.nan)\n",
    "        print(\"Latitude not found\")\n",
    "        pass\n",
    "    try:\n",
    "        longitude.append(response['coord']['lon'])\n",
    "    except:\n",
    "        longitude.append(np.nan)\n",
    "        print(\"longitude not found\")\n",
    "        pass\n",
    "    try:\n",
    "        cloudiness.append(response['clouds']['all'])\n",
    "    except:\n",
    "        cloudiness.append(np.nan)\n",
    "        print(\"cloudiness not found\")\n",
    "        pass\n",
    "    try:\n",
    "        wind_speed.append(response['wind']['speed'])\n",
    "    except:\n",
    "        wind_speed.append(np.nan)\n",
    "        print(\"Wind Speed not found\")\n",
    "        pass\n",
    "    try:\n",
    "        temperature.append(response['main'] ['temp'])\n",
    "    except:\n",
    "        temperature.append(np.nan)\n",
    "        print(\"Temp not found\")\n",
    "        pass\n",
    "    try:\n",
    "        humidity.append(response['main'] ['humidity'])\n",
    "    except:\n",
    "        humidity.append(np.nan)\n",
    "        print(\"Humidity not found\")\n",
    "        pass\n"
   ],
   "cell_type": "code",
   "metadata": {
    "tags": [
     "outputPrepend"
    ]
   },
   "execution_count": null,
   "outputs": []
  },
  {
   "cell_type": "code",
   "execution_count": null,
   "metadata": {},
   "outputs": [],
   "source": [
    "weather_dict = {\n",
    "    \"city\": city,\n",
    "    \"lat\": latitude,\n",
    "    \"lon\":longitude,\n",
    "    \"temp\": temperature,\n",
    "    \"cloud\":cloudiness,\n",
    "    \"Wind speed\":wind_speed,\n",
    "    \"Humidity\":humidity\n",
    "}\n",
    "weather_data = pd.DataFrame(weather_dict)\n",
    "weather_data"
   ]
  },
  {
   "cell_type": "code",
   "execution_count": null,
   "metadata": {},
   "outputs": [],
   "source": [
    "# Export file as a CSV\n",
    "weather_data.to_csv(\"WeatherPy_cites.csv\", index=False, header=True)"
   ]
  },
  {
   "cell_type": "code",
   "execution_count": null,
   "metadata": {},
   "outputs": [],
   "source": [
    "weather_data.dtypes"
   ]
  },
  {
   "cell_type": "code",
   "execution_count": null,
   "metadata": {},
   "outputs": [],
   "source": [
    "weather_data_clean = weather_data.dropna()"
   ]
  },
  {
   "cell_type": "code",
   "execution_count": null,
   "metadata": {},
   "outputs": [],
   "source": [
    "weather_data_clean.dtypes"
   ]
  },
  {
   "cell_type": "code",
   "execution_count": null,
   "metadata": {},
   "outputs": [],
   "source": [
    "# pitstop_df.duration.astype(float)\n",
    "weather_data_clean.lat.astype(float)\n",
    "weather_data_clean.lon.astype(float)\n",
    "weather_data_clean.temp.astype(float)\n",
    "weather_data_clean.cloud.astype(float)\n",
    "weather_data_clean['Wind speed'].astype(float)"
   ]
  },
  {
   "cell_type": "code",
   "execution_count": null,
   "metadata": {},
   "outputs": [],
   "source": [
    "\n",
    "\n",
    "plt.scatter(latitude,temperature, marker=\"o\", facecolors=\"red\", edgecolors=\"black\", alpha=1)\n",
    "plt.xlabel(\"Latitude\")\n",
    "plt.ylabel(\"Temperature\")\n",
    "plt.title(\"Latitude vs Temperature\")\n",
    "plt.savefig(\"Output_Plots/Latitude_vs_Temperature.png\")\n",
    "\n",
    "print(\"This is analyzing the relationships between Latitude and Temperature and it shows that the hotter temperatures are near the equator (Latitude 0)\")"
   ]
  },
  {
   "source": [
    "The greater the latitude the colder the temperature. The data was collect in the Northern hemisphere winter\n"
   ],
   "cell_type": "markdown",
   "metadata": {}
  },
  {
   "cell_type": "code",
   "execution_count": null,
   "metadata": {},
   "outputs": [],
   "source": [
    "# •\tHumidity (%) vs. Latitude\n",
    "plt.scatter(latitude,humidity, marker=\"o\", facecolors=\"red\", edgecolors=\"black\", alpha=1)\n",
    "plt.xlabel(\"Latitude\")\n",
    "plt.ylabel(\"Humidity \")\n",
    "plt.title(\"Latitude vs Humidity\")\n",
    "plt.savefig(\"Output_Plots/Latitude_vs_Humidity.png\")\n",
    "print(\"This is analyzing the relationships between Latitude and Humidity\")"
   ]
  },
  {
   "cell_type": "code",
   "execution_count": null,
   "metadata": {},
   "outputs": [],
   "source": [
    "# •\tCloudiness (%) vs. Latitude\n",
    "plt.scatter(latitude,cloudiness, marker=\"o\", facecolors=\"red\", edgecolors=\"black\", alpha=1)\n",
    "plt.xlabel(\"Latitude\")\n",
    "plt.ylabel(\"Cloudiness\")\n",
    "plt.title(\"Latitude vs Cloudiness\")\n",
    "print(\"This is analyzing the relationships between Latitude and Cloudiness\")\n"
   ]
  },
  {
   "source": [
    "There does not seem to be relationship between latitude and cloudiness"
   ],
   "cell_type": "markdown",
   "metadata": {}
  },
  {
   "cell_type": "code",
   "execution_count": null,
   "metadata": {},
   "outputs": [],
   "source": [
    "# •\tWind Speed (km) vs. Latitude\n",
    "plt.scatter(latitude,wind_speed, marker=\"o\", facecolors=\"red\", edgecolors=\"black\", alpha=1)\n",
    "plt.xlabel(\"Latitude\")\n",
    "plt.ylabel(\"Wind Speed\")\n",
    "plt.title(\"Latitude vs Wind Speed\")\n",
    "plt.savefig(\"Output_Plots/Latitude_vs_Wind_Speed.png\")\n",
    "print(\"This is analyzing the relationships between Latitude and wind speed\")"
   ]
  },
  {
   "cell_type": "code",
   "execution_count": null,
   "metadata": {},
   "outputs": [],
   "source": [
    "weather_data_clean.head()"
   ]
  },
  {
   "cell_type": "code",
   "execution_count": null,
   "metadata": {},
   "outputs": [],
   "source": [
    "northern_hemisphere = weather_data_clean.loc[weather_data_clean[\"lat\"] >= 0]\n",
    "southern_hemisphere = weather_data_clean.loc[weather_data_clean[\"lat\"] < 0]"
   ]
  },
  {
   "cell_type": "code",
   "execution_count": null,
   "metadata": {},
   "outputs": [],
   "source": [
    "# Northern Hemisphere - Temperature (C) vs. Latitude\n",
    "plt.scatter(northern_hemisphere['lat'],northern_hemisphere['temp'], marker=\"o\", facecolors=\"red\", edgecolors=\"black\", alpha=1)\n",
    "plt.xlabel(\"Latitude\")\n",
    "plt.ylabel(\"Temperature\")\n",
    "plt.title(\"Northern Hemisphere Latitude vs Temperature\")\n",
    "correlation = stats.pearsonr(northern_hemisphere['lat'],northern_hemisphere['temp'])\n",
    "(slope, intercept, rvalue, pvalue, stderr) = stats.linregress(northern_hemisphere['lat'], northern_hemisphere['temp'])\n",
    "regress_values = northern_hemisphere['lat'] * slope + intercept\n",
    "line_eq = 'y = ' + str(round(slope,2)) + 'x + ' + str(round(intercept,2))\n",
    "plt.annotate(line_eq,(3,5),fontsize=10,color='black')\n",
    "plt.show\n",
    "plt.plot(northern_hemisphere['lat'],regress_values,'r-')\n",
    "print(rvalue)\n",
    "plt.savefig(\"Output_Plots/Nth_Hem_Lat_vs_Temp.png\")\n",
    "print(\"This is analyzing the relationships between latitude and temperature in the northern hemisphere and shows that there is a strong negative correlation. This date was collect in northern hemisphere winter\")\n",
    "\n",
    "\n",
    "\n"
   ]
  },
  {
   "cell_type": "code",
   "execution_count": null,
   "metadata": {},
   "outputs": [],
   "source": [
    "# Southern Hemisphere - Temperature (C) vs. Latitude\n",
    "plt.scatter(southern_hemisphere['lat'],southern_hemisphere['temp'], marker=\"o\", facecolors=\"red\", edgecolors=\"black\", alpha=1)\n",
    "plt.xlabel(\"Latitude\")\n",
    "plt.ylabel(\"Temperature\")\n",
    "plt.title(\"Southern Hemisphere Latitude vs Temperature\")\n",
    "correlation = stats.pearsonr(southern_hemisphere['lat'],southern_hemisphere['temp'])\n",
    "(slope, intercept, rvalue, pvalue, stderr) = stats.linregress(southern_hemisphere['lat'], southern_hemisphere['temp'])\n",
    "regress_values = southern_hemisphere['lat'] * slope + intercept\n",
    "line_eq = 'y = ' + str(round(slope,2)) + 'x + ' + str(round(intercept,2))\n",
    "plt.annotate(line_eq,(-50,35),fontsize=10,color='black')\n",
    "plt.show\n",
    "plt.plot(southern_hemisphere['lat'],regress_values,'r-')\n",
    "print(rvalue)\n",
    "plt.savefig(\"Output_Plots/Sth_Hem_Lat_vs_Temp.png\")\n",
    "print(\"This is analyzing the relationships between latitude and temperature in the southern hemisphere and shows that there is a strong positive correlation. This date was collect in southern hemisphere summer\")\n",
    "\n"
   ]
  },
  {
   "cell_type": "code",
   "execution_count": null,
   "metadata": {},
   "outputs": [],
   "source": [
    "# Northern Hemisphere - Humidity (%) vs. Latitude\n",
    "plt.scatter(northern_hemisphere['lat'],northern_hemisphere['Humidity'], marker=\"o\", facecolors=\"red\", edgecolors=\"black\", alpha=1)\n",
    "plt.xlabel(\"Humidity\")\n",
    "plt.ylabel(\"Temperature\")\n",
    "plt.title(\"Northern Hemisphere Latitude vs Humidity\")\n",
    "correlation = stats.pearsonr(northern_hemisphere['lat'],northern_hemisphere['Humidity'])\n",
    "(slope, intercept, rvalue, pvalue, stderr) = stats.linregress(northern_hemisphere['lat'], northern_hemisphere['Humidity'])\n",
    "regress_values = northern_hemisphere['lat'] * slope + intercept\n",
    "line_eq = 'y = ' + str(round(slope,2)) + 'x + ' + str(round(intercept,2))\n",
    "plt.annotate(rvalue,(50,10),fontsize=10,color='black')\n",
    "plt.show\n",
    "plt.plot(northern_hemisphere['lat'],regress_values,'r-')\n",
    "print(rvalue)\n",
    "plt.savefig(\"Output_Plots/Nth_Hem_Lat_vs_Humidity.png\")\n",
    "print(\"This is analyzing the relationships between latitude and humidity in the northern hemisphere and shows that there is a positive correlation\")\n"
   ]
  },
  {
   "cell_type": "code",
   "execution_count": null,
   "metadata": {},
   "outputs": [],
   "source": [
    "# Southern Hemisphere - Humidity (%) vs. Latitude\n",
    "\n",
    "plt.scatter(southern_hemisphere['lat'],southern_hemisphere['Humidity'], marker=\"o\", facecolors=\"red\", edgecolors=\"black\", alpha=1)\n",
    "plt.xlabel(\"Latitude\")\n",
    "plt.ylabel(\"Humidity\")\n",
    "plt.title(\"Southern Hemisphere Latitude vs Humidity\")\n",
    "correlation = stats.pearsonr(southern_hemisphere['lat'],southern_hemisphere['Humidity'])\n",
    "(slope, intercept, rvalue, pvalue, stderr) = stats.linregress(southern_hemisphere['lat'], southern_hemisphere['Humidity'])\n",
    "regress_values = southern_hemisphere['lat'] * slope + intercept\n",
    "line_eq = 'y = ' + str(round(slope,2)) + 'x + ' + str(round(intercept,2))\n",
    "plt.annotate(rvalue,(-50,35),fontsize=10,color='black')\n",
    "plt.show\n",
    "plt.plot(southern_hemisphere['lat'],regress_values,'r-')\n",
    "print(rvalue)\n",
    "plt.savefig(\"Output_Plots/Sth_Hem_Lat_vs_Humidity.png\")\n",
    "print(\"This is analyzing the relationships between latitude and humidity in the southern hemisphere and shows that there is a positive correlation\")\n"
   ]
  },
  {
   "cell_type": "code",
   "execution_count": null,
   "metadata": {},
   "outputs": [],
   "source": [
    "# Northern Hemisphere - Cloudiness (%) vs. Latitude\n",
    "plt.scatter(northern_hemisphere['lat'],northern_hemisphere['cloud'], marker=\"o\", facecolors=\"red\", edgecolors=\"black\", alpha=1)\n",
    "plt.xlabel(\"Humidity\")\n",
    "plt.ylabel(\"Temperature\")\n",
    "plt.title(\"Northern Hemisphere Latitude vs Cloudiness\")\n",
    "correlation = stats.pearsonr(northern_hemisphere['lat'],northern_hemisphere['cloud'])\n",
    "(slope, intercept, rvalue, pvalue, stderr) = stats.linregress(northern_hemisphere['lat'], northern_hemisphere['cloud'])\n",
    "regress_values = northern_hemisphere['lat'] * slope + intercept\n",
    "line_eq = 'y = ' + str(round(slope,2)) + 'x + ' + str(round(intercept,2))\n",
    "plt.annotate(rvalue,(50,10),fontsize=10,color='black')\n",
    "plt.show\n",
    "plt.plot(northern_hemisphere['lat'],regress_values,'r-')\n",
    "print(rvalue)\n",
    "plt.savefig(\"Output_Plots/Nth_Hem_Lat_vs_Cloudiness.png\")\n",
    "print(\"This is analyzing the relationships between latitude and cloud cover in the northern hemisphere and shows that there is a week positive correlation\")\n",
    "\n"
   ]
  },
  {
   "cell_type": "code",
   "execution_count": null,
   "metadata": {},
   "outputs": [],
   "source": [
    "# Southern Hemisphere - Cloudiness (%) vs. Latitude\n",
    "\n",
    "plt.scatter(southern_hemisphere['lat'],southern_hemisphere['cloud'], marker=\"o\", facecolors=\"red\", edgecolors=\"black\", alpha=1)\n",
    "plt.xlabel(\"Latitude\")\n",
    "plt.ylabel(\"Cloudiness\")\n",
    "plt.title(\"Southern Hemisphere Cloudiness vs Humidity\")\n",
    "correlation = stats.pearsonr(southern_hemisphere['lat'],southern_hemisphere['cloud'])\n",
    "(slope, intercept, rvalue, pvalue, stderr) = stats.linregress(southern_hemisphere['lat'], southern_hemisphere['cloud'])\n",
    "regress_values = southern_hemisphere['lat'] * slope + intercept\n",
    "line_eq = 'y = ' + str(round(slope,2)) + 'x + ' + str(round(intercept,2))\n",
    "plt.annotate(rvalue,(-50,35),fontsize=10,color='black')\n",
    "plt.show\n",
    "plt.plot(southern_hemisphere['lat'],regress_values,'r-')\n",
    "print(rvalue)\n",
    "plt.savefig(\"Output_Plots/Sth_Hem_Lat_vs_Cloudiness.png\")\n",
    "print(\"This is analyzing the relationships between latitude and cloud cover in the southern hemisphere and shows that there is a positive correlation\")"
   ]
  },
  {
   "cell_type": "code",
   "execution_count": null,
   "metadata": {},
   "outputs": [],
   "source": [
    "# Northern Hemisphere - Wind Speed (km) vs. Latitude\n",
    "plt.scatter(northern_hemisphere['lat'],northern_hemisphere['Wind speed'], marker=\"o\", facecolors=\"red\", edgecolors=\"black\", alpha=1)\n",
    "plt.xlabel(\"Humidity\")\n",
    "plt.ylabel(\"Wind speed\")\n",
    "plt.title(\"Northern Hemisphere Latitude vs Wind Speed\")\n",
    "correlation = stats.pearsonr(northern_hemisphere['lat'],northern_hemisphere['Wind speed'])\n",
    "(slope, intercept, rvalue, pvalue, stderr) = stats.linregress(northern_hemisphere['lat'], northern_hemisphere['Wind speed'])\n",
    "regress_values = northern_hemisphere['lat'] * slope + intercept\n",
    "line_eq = 'y = ' + str(round(slope,2)) + 'x + ' + str(round(intercept,2))\n",
    "plt.annotate(rvalue,(50,10),fontsize=10,color='black')\n",
    "plt.show\n",
    "plt.plot(northern_hemisphere['lat'],regress_values,'r-')\n",
    "print(rvalue)\n",
    "plt.savefig(\"Output_Plots/Nth_Hem_Lat_vs_Wind_Speed.png\")\n",
    "print(\"This is analyzing the relationships between latitude and wind speed in the northern hemisphere and shows that there is a week positive correlation\")"
   ]
  },
  {
   "cell_type": "code",
   "execution_count": null,
   "metadata": {},
   "outputs": [],
   "source": [
    "# Southern Hemisphere - Wind Speed (km) vs. Latitude\n",
    "\n",
    "plt.scatter(southern_hemisphere['lat'],southern_hemisphere['Wind speed'], marker=\"o\", facecolors=\"red\", edgecolors=\"black\", alpha=1)\n",
    "plt.xlabel(\"Latitude\")\n",
    "plt.ylabel(\"Wind Speed\")\n",
    "plt.title(\"Southern Hemisphere Cloudiness vs Wind Speed\")\n",
    "correlation = stats.pearsonr(southern_hemisphere['lat'],southern_hemisphere['Wind speed'])\n",
    "(slope, intercept, rvalue, pvalue, stderr) = stats.linregress(southern_hemisphere['lat'], southern_hemisphere['Wind speed'])\n",
    "regress_values = southern_hemisphere['lat'] * slope + intercept\n",
    "line_eq = 'y = ' + str(round(slope,2)) + 'x + ' + str(round(intercept,2))\n",
    "plt.annotate(rvalue,(-50,35),fontsize=10,color='black')\n",
    "plt.show\n",
    "plt.plot(southern_hemisphere['lat'],regress_values,'r-')\n",
    "print(rvalue)\n",
    "plt.savefig(\"Output_Plots/Sth_Hem_Lat_vs_Wind_Speed.png\")\n",
    "print(\"This is analyzing the relationships between latitude and humidity in the southern hemisphere and shows that there is a week negative correlation\")"
   ]
  }
 ]
}