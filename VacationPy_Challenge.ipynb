{
 "metadata": {
  "language_info": {
   "codemirror_mode": {
    "name": "ipython",
    "version": 3
   },
   "file_extension": ".py",
   "mimetype": "text/x-python",
   "name": "python",
   "nbconvert_exporter": "python",
   "pygments_lexer": "ipython3",
   "version": "3.8.5-final"
  },
  "orig_nbformat": 2,
  "kernelspec": {
   "name": "python3",
   "display_name": "Python 3",
   "language": "python"
  }
 },
 "nbformat": 4,
 "nbformat_minor": 2,
 "cells": [
  {
   "cell_type": "code",
   "execution_count": 1,
   "metadata": {},
   "outputs": [],
   "source": [
    "\n",
    "# Dependencies and Setup\n",
    "import matplotlib.pyplot as plt\n",
    "import pandas as pd\n",
    "import numpy as np\n",
    "import requests\n",
    "import gmaps\n",
    "import os\n",
    "\n",
    "# Import API key\n",
    "from api_keys import g_key\n",
    "\n",
    "# Configure gmaps\n",
    "gmaps.configure(api_key=g_key)"
   ]
  },
  {
   "cell_type": "code",
   "execution_count": 2,
   "metadata": {},
   "outputs": [
    {
     "output_type": "execute_result",
     "data": {
      "text/plain": [
       "                 city      lat       lon   temp  cloud  Wind speed  Humidity\n",
       "0        Puerto Ayora  -0.7393  -90.3518  25.00     50        2.78        94\n",
       "1           Esperance -33.8667  121.9000  17.00     90        6.69        94\n",
       "2               Bluff -46.6000  168.3333  16.00      1        5.71        79\n",
       "3               Gazli  40.1333   63.4500  10.17    100        2.77        59\n",
       "4  Acapulco de Juárez  16.8634  -99.8901  23.79      0        1.53        77"
      ],
      "text/html": "<div>\n<style scoped>\n    .dataframe tbody tr th:only-of-type {\n        vertical-align: middle;\n    }\n\n    .dataframe tbody tr th {\n        vertical-align: top;\n    }\n\n    .dataframe thead th {\n        text-align: right;\n    }\n</style>\n<table border=\"1\" class=\"dataframe\">\n  <thead>\n    <tr style=\"text-align: right;\">\n      <th></th>\n      <th>city</th>\n      <th>lat</th>\n      <th>lon</th>\n      <th>temp</th>\n      <th>cloud</th>\n      <th>Wind speed</th>\n      <th>Humidity</th>\n    </tr>\n  </thead>\n  <tbody>\n    <tr>\n      <th>0</th>\n      <td>Puerto Ayora</td>\n      <td>-0.7393</td>\n      <td>-90.3518</td>\n      <td>25.00</td>\n      <td>50</td>\n      <td>2.78</td>\n      <td>94</td>\n    </tr>\n    <tr>\n      <th>1</th>\n      <td>Esperance</td>\n      <td>-33.8667</td>\n      <td>121.9000</td>\n      <td>17.00</td>\n      <td>90</td>\n      <td>6.69</td>\n      <td>94</td>\n    </tr>\n    <tr>\n      <th>2</th>\n      <td>Bluff</td>\n      <td>-46.6000</td>\n      <td>168.3333</td>\n      <td>16.00</td>\n      <td>1</td>\n      <td>5.71</td>\n      <td>79</td>\n    </tr>\n    <tr>\n      <th>3</th>\n      <td>Gazli</td>\n      <td>40.1333</td>\n      <td>63.4500</td>\n      <td>10.17</td>\n      <td>100</td>\n      <td>2.77</td>\n      <td>59</td>\n    </tr>\n    <tr>\n      <th>4</th>\n      <td>Acapulco de Juárez</td>\n      <td>16.8634</td>\n      <td>-99.8901</td>\n      <td>23.79</td>\n      <td>0</td>\n      <td>1.53</td>\n      <td>77</td>\n    </tr>\n  </tbody>\n</table>\n</div>"
     },
     "metadata": {},
     "execution_count": 2
    }
   ],
   "source": [
    "#load csv into dataframe\n",
    "city_df = pd.read_csv(\"WeatherPy_cites.csv\")\n",
    "city_df.head()"
   ]
  },
  {
   "cell_type": "code",
   "execution_count": 3,
   "metadata": {},
   "outputs": [
    {
     "output_type": "execute_result",
     "data": {
      "text/plain": [
       "                   city      lat       lon   temp  cloud  Wind speed  Humidity\n",
       "0          Puerto Ayora  -0.7393  -90.3518  25.00     50        2.78        94\n",
       "1             Esperance -33.8667  121.9000  17.00     90        6.69        94\n",
       "2                 Bluff -46.6000  168.3333  16.00      1        5.71        79\n",
       "3                 Gazli  40.1333   63.4500  10.17    100        2.77        59\n",
       "4    Acapulco de Juárez  16.8634  -99.8901  23.79      0        1.53        77\n",
       "..                  ...      ...       ...    ...    ...         ...       ...\n",
       "299           Piaçabuçu -10.4056  -36.4344  25.12     84        5.21        84\n",
       "300               Terme  41.2092   36.9739   4.00      0        0.51        93\n",
       "301             Gobabis -22.4500   18.9667  19.57      0        2.33        79\n",
       "302             College  64.8569 -147.8028 -20.91     90        1.02        77\n",
       "303          Miraflores  19.2167  -98.8083  17.88      1        1.54        42\n",
       "\n",
       "[304 rows x 7 columns]"
      ],
      "text/html": "<div>\n<style scoped>\n    .dataframe tbody tr th:only-of-type {\n        vertical-align: middle;\n    }\n\n    .dataframe tbody tr th {\n        vertical-align: top;\n    }\n\n    .dataframe thead th {\n        text-align: right;\n    }\n</style>\n<table border=\"1\" class=\"dataframe\">\n  <thead>\n    <tr style=\"text-align: right;\">\n      <th></th>\n      <th>city</th>\n      <th>lat</th>\n      <th>lon</th>\n      <th>temp</th>\n      <th>cloud</th>\n      <th>Wind speed</th>\n      <th>Humidity</th>\n    </tr>\n  </thead>\n  <tbody>\n    <tr>\n      <th>0</th>\n      <td>Puerto Ayora</td>\n      <td>-0.7393</td>\n      <td>-90.3518</td>\n      <td>25.00</td>\n      <td>50</td>\n      <td>2.78</td>\n      <td>94</td>\n    </tr>\n    <tr>\n      <th>1</th>\n      <td>Esperance</td>\n      <td>-33.8667</td>\n      <td>121.9000</td>\n      <td>17.00</td>\n      <td>90</td>\n      <td>6.69</td>\n      <td>94</td>\n    </tr>\n    <tr>\n      <th>2</th>\n      <td>Bluff</td>\n      <td>-46.6000</td>\n      <td>168.3333</td>\n      <td>16.00</td>\n      <td>1</td>\n      <td>5.71</td>\n      <td>79</td>\n    </tr>\n    <tr>\n      <th>3</th>\n      <td>Gazli</td>\n      <td>40.1333</td>\n      <td>63.4500</td>\n      <td>10.17</td>\n      <td>100</td>\n      <td>2.77</td>\n      <td>59</td>\n    </tr>\n    <tr>\n      <th>4</th>\n      <td>Acapulco de Juárez</td>\n      <td>16.8634</td>\n      <td>-99.8901</td>\n      <td>23.79</td>\n      <td>0</td>\n      <td>1.53</td>\n      <td>77</td>\n    </tr>\n    <tr>\n      <th>...</th>\n      <td>...</td>\n      <td>...</td>\n      <td>...</td>\n      <td>...</td>\n      <td>...</td>\n      <td>...</td>\n      <td>...</td>\n    </tr>\n    <tr>\n      <th>299</th>\n      <td>Piaçabuçu</td>\n      <td>-10.4056</td>\n      <td>-36.4344</td>\n      <td>25.12</td>\n      <td>84</td>\n      <td>5.21</td>\n      <td>84</td>\n    </tr>\n    <tr>\n      <th>300</th>\n      <td>Terme</td>\n      <td>41.2092</td>\n      <td>36.9739</td>\n      <td>4.00</td>\n      <td>0</td>\n      <td>0.51</td>\n      <td>93</td>\n    </tr>\n    <tr>\n      <th>301</th>\n      <td>Gobabis</td>\n      <td>-22.4500</td>\n      <td>18.9667</td>\n      <td>19.57</td>\n      <td>0</td>\n      <td>2.33</td>\n      <td>79</td>\n    </tr>\n    <tr>\n      <th>302</th>\n      <td>College</td>\n      <td>64.8569</td>\n      <td>-147.8028</td>\n      <td>-20.91</td>\n      <td>90</td>\n      <td>1.02</td>\n      <td>77</td>\n    </tr>\n    <tr>\n      <th>303</th>\n      <td>Miraflores</td>\n      <td>19.2167</td>\n      <td>-98.8083</td>\n      <td>17.88</td>\n      <td>1</td>\n      <td>1.54</td>\n      <td>42</td>\n    </tr>\n  </tbody>\n</table>\n<p>304 rows × 7 columns</p>\n</div>"
     },
     "metadata": {},
     "execution_count": 3
    }
   ],
   "source": [
    "city_df.dropna(how='any')"
   ]
  },
  {
   "cell_type": "code",
   "execution_count": 4,
   "metadata": {},
   "outputs": [],
   "source": [
    "# Variables for heat map\n",
    "\n",
    "place = city_df[['lat','lon' ]]\n",
    "humidity = city_df['Humidity'].astype(float)"
   ]
  },
  {
   "cell_type": "code",
   "execution_count": 5,
   "metadata": {},
   "outputs": [
    {
     "output_type": "display_data",
     "data": {
      "text/plain": "Figure(layout=FigureLayout(height='420px'))",
      "application/vnd.jupyter.widget-view+json": {
       "version_major": 2,
       "version_minor": 0,
       "model_id": "8ada06af965d423e9bdf9da6e9435ecf"
      }
     },
     "metadata": {}
    }
   ],
   "source": [
    "# create heat map\n",
    "\n",
    "fig = gmaps.figure()\n",
    "\n",
    "heat_layer = gmaps.heatmap_layer(place, weights=humidity, \n",
    "                                 dissipating=False, max_intensity=20,\n",
    "                                 point_radius=1)\n",
    "fig.add_layer(heat_layer)\n",
    "fig"
   ]
  },
  {
   "cell_type": "code",
   "execution_count": 7,
   "metadata": {},
   "outputs": [],
   "source": [
    "Vacation_df = city_df[city_df['temp']>=20] \n",
    "Vacation_df = Vacation_df[Vacation_df['temp']<=30] \n",
    "Vacation_df = Vacation_df[Vacation_df['Wind speed']<=30] \n",
    "Vacation_df = Vacation_df[Vacation_df['cloud']<=10]"
   ]
  },
  {
   "cell_type": "code",
   "execution_count": 8,
   "metadata": {},
   "outputs": [
    {
     "output_type": "execute_result",
     "data": {
      "text/plain": [
       "                   city      lat       lon   temp  cloud  Wind speed  Humidity\n",
       "4    Acapulco de Juárez  16.8634  -99.8901  23.79      0        1.53        77\n",
       "23              Te Anau -45.4167  167.7167  23.25      0        3.36        38\n",
       "49       Port Elizabeth -33.9180   25.5701  20.00      0        5.14        77\n",
       "51             Imbituba -28.2400  -48.6703  20.00      0        1.54        88\n",
       "73               Faanui -16.4833 -151.7500  28.04      1        4.75        68\n",
       "74              Bhachāu  23.2833   70.3500  23.77      0        6.20        24\n",
       "77          El Salvador  13.8333  -88.9167  22.00      0        1.54        83\n",
       "82                 Tezu  27.9167   96.1667  25.20      5        1.99        18\n",
       "90       Saint-Philippe -21.3585   55.7679  26.29      0        2.57        70\n",
       "91          Cootamundra -34.6500  148.0333  27.22      1        1.79        42\n",
       "113       Makakilo City  21.3469 -158.0858  23.57      1        5.14        49\n",
       "116            San Juan -31.5375  -68.5364  27.17      0        5.00        40\n",
       "161                 Sur  22.5667   59.5289  21.14      0        2.46        55\n",
       "202             Iquitos  -3.7481  -73.2472  24.00      0        0.33        94\n",
       "203              Teknāf  20.8624   92.3058  25.71      0        6.15        38\n",
       "206              Cumbum   9.7333   77.3000  26.23      2        2.47        38\n",
       "218          Deniliquin -35.5333  144.9667  25.56      0        1.34        37\n",
       "231           Hong Kong  22.2855  114.1577  22.39      0        4.12        32\n",
       "243    Puerto Escondido  15.8500  -97.0667  24.79      2        2.32        75\n",
       "272              Zhuhai  22.2769  113.5678  25.46      0        2.57        78\n",
       "273              Rājula  21.0500   71.4333  25.32      0        6.49        23"
      ],
      "text/html": "<div>\n<style scoped>\n    .dataframe tbody tr th:only-of-type {\n        vertical-align: middle;\n    }\n\n    .dataframe tbody tr th {\n        vertical-align: top;\n    }\n\n    .dataframe thead th {\n        text-align: right;\n    }\n</style>\n<table border=\"1\" class=\"dataframe\">\n  <thead>\n    <tr style=\"text-align: right;\">\n      <th></th>\n      <th>city</th>\n      <th>lat</th>\n      <th>lon</th>\n      <th>temp</th>\n      <th>cloud</th>\n      <th>Wind speed</th>\n      <th>Humidity</th>\n    </tr>\n  </thead>\n  <tbody>\n    <tr>\n      <th>4</th>\n      <td>Acapulco de Juárez</td>\n      <td>16.8634</td>\n      <td>-99.8901</td>\n      <td>23.79</td>\n      <td>0</td>\n      <td>1.53</td>\n      <td>77</td>\n    </tr>\n    <tr>\n      <th>23</th>\n      <td>Te Anau</td>\n      <td>-45.4167</td>\n      <td>167.7167</td>\n      <td>23.25</td>\n      <td>0</td>\n      <td>3.36</td>\n      <td>38</td>\n    </tr>\n    <tr>\n      <th>49</th>\n      <td>Port Elizabeth</td>\n      <td>-33.9180</td>\n      <td>25.5701</td>\n      <td>20.00</td>\n      <td>0</td>\n      <td>5.14</td>\n      <td>77</td>\n    </tr>\n    <tr>\n      <th>51</th>\n      <td>Imbituba</td>\n      <td>-28.2400</td>\n      <td>-48.6703</td>\n      <td>20.00</td>\n      <td>0</td>\n      <td>1.54</td>\n      <td>88</td>\n    </tr>\n    <tr>\n      <th>73</th>\n      <td>Faanui</td>\n      <td>-16.4833</td>\n      <td>-151.7500</td>\n      <td>28.04</td>\n      <td>1</td>\n      <td>4.75</td>\n      <td>68</td>\n    </tr>\n    <tr>\n      <th>74</th>\n      <td>Bhachāu</td>\n      <td>23.2833</td>\n      <td>70.3500</td>\n      <td>23.77</td>\n      <td>0</td>\n      <td>6.20</td>\n      <td>24</td>\n    </tr>\n    <tr>\n      <th>77</th>\n      <td>El Salvador</td>\n      <td>13.8333</td>\n      <td>-88.9167</td>\n      <td>22.00</td>\n      <td>0</td>\n      <td>1.54</td>\n      <td>83</td>\n    </tr>\n    <tr>\n      <th>82</th>\n      <td>Tezu</td>\n      <td>27.9167</td>\n      <td>96.1667</td>\n      <td>25.20</td>\n      <td>5</td>\n      <td>1.99</td>\n      <td>18</td>\n    </tr>\n    <tr>\n      <th>90</th>\n      <td>Saint-Philippe</td>\n      <td>-21.3585</td>\n      <td>55.7679</td>\n      <td>26.29</td>\n      <td>0</td>\n      <td>2.57</td>\n      <td>70</td>\n    </tr>\n    <tr>\n      <th>91</th>\n      <td>Cootamundra</td>\n      <td>-34.6500</td>\n      <td>148.0333</td>\n      <td>27.22</td>\n      <td>1</td>\n      <td>1.79</td>\n      <td>42</td>\n    </tr>\n    <tr>\n      <th>113</th>\n      <td>Makakilo City</td>\n      <td>21.3469</td>\n      <td>-158.0858</td>\n      <td>23.57</td>\n      <td>1</td>\n      <td>5.14</td>\n      <td>49</td>\n    </tr>\n    <tr>\n      <th>116</th>\n      <td>San Juan</td>\n      <td>-31.5375</td>\n      <td>-68.5364</td>\n      <td>27.17</td>\n      <td>0</td>\n      <td>5.00</td>\n      <td>40</td>\n    </tr>\n    <tr>\n      <th>161</th>\n      <td>Sur</td>\n      <td>22.5667</td>\n      <td>59.5289</td>\n      <td>21.14</td>\n      <td>0</td>\n      <td>2.46</td>\n      <td>55</td>\n    </tr>\n    <tr>\n      <th>202</th>\n      <td>Iquitos</td>\n      <td>-3.7481</td>\n      <td>-73.2472</td>\n      <td>24.00</td>\n      <td>0</td>\n      <td>0.33</td>\n      <td>94</td>\n    </tr>\n    <tr>\n      <th>203</th>\n      <td>Teknāf</td>\n      <td>20.8624</td>\n      <td>92.3058</td>\n      <td>25.71</td>\n      <td>0</td>\n      <td>6.15</td>\n      <td>38</td>\n    </tr>\n    <tr>\n      <th>206</th>\n      <td>Cumbum</td>\n      <td>9.7333</td>\n      <td>77.3000</td>\n      <td>26.23</td>\n      <td>2</td>\n      <td>2.47</td>\n      <td>38</td>\n    </tr>\n    <tr>\n      <th>218</th>\n      <td>Deniliquin</td>\n      <td>-35.5333</td>\n      <td>144.9667</td>\n      <td>25.56</td>\n      <td>0</td>\n      <td>1.34</td>\n      <td>37</td>\n    </tr>\n    <tr>\n      <th>231</th>\n      <td>Hong Kong</td>\n      <td>22.2855</td>\n      <td>114.1577</td>\n      <td>22.39</td>\n      <td>0</td>\n      <td>4.12</td>\n      <td>32</td>\n    </tr>\n    <tr>\n      <th>243</th>\n      <td>Puerto Escondido</td>\n      <td>15.8500</td>\n      <td>-97.0667</td>\n      <td>24.79</td>\n      <td>2</td>\n      <td>2.32</td>\n      <td>75</td>\n    </tr>\n    <tr>\n      <th>272</th>\n      <td>Zhuhai</td>\n      <td>22.2769</td>\n      <td>113.5678</td>\n      <td>25.46</td>\n      <td>0</td>\n      <td>2.57</td>\n      <td>78</td>\n    </tr>\n    <tr>\n      <th>273</th>\n      <td>Rājula</td>\n      <td>21.0500</td>\n      <td>71.4333</td>\n      <td>25.32</td>\n      <td>0</td>\n      <td>6.49</td>\n      <td>23</td>\n    </tr>\n  </tbody>\n</table>\n</div>"
     },
     "metadata": {},
     "execution_count": 8
    }
   ],
   "source": [
    "Vacation_df"
   ]
  },
  {
   "cell_type": "code",
   "execution_count": 9,
   "metadata": {},
   "outputs": [
    {
     "output_type": "execute_result",
     "data": {
      "text/plain": [
       "                   city      lat       lon   temp  cloud  Wind speed  \\\n",
       "4    Acapulco de Juárez  16.8634  -99.8901  23.79      0        1.53   \n",
       "23              Te Anau -45.4167  167.7167  23.25      0        3.36   \n",
       "49       Port Elizabeth -33.9180   25.5701  20.00      0        5.14   \n",
       "51             Imbituba -28.2400  -48.6703  20.00      0        1.54   \n",
       "73               Faanui -16.4833 -151.7500  28.04      1        4.75   \n",
       "74              Bhachāu  23.2833   70.3500  23.77      0        6.20   \n",
       "77          El Salvador  13.8333  -88.9167  22.00      0        1.54   \n",
       "82                 Tezu  27.9167   96.1667  25.20      5        1.99   \n",
       "90       Saint-Philippe -21.3585   55.7679  26.29      0        2.57   \n",
       "91          Cootamundra -34.6500  148.0333  27.22      1        1.79   \n",
       "113       Makakilo City  21.3469 -158.0858  23.57      1        5.14   \n",
       "116            San Juan -31.5375  -68.5364  27.17      0        5.00   \n",
       "161                 Sur  22.5667   59.5289  21.14      0        2.46   \n",
       "202             Iquitos  -3.7481  -73.2472  24.00      0        0.33   \n",
       "203              Teknāf  20.8624   92.3058  25.71      0        6.15   \n",
       "206              Cumbum   9.7333   77.3000  26.23      2        2.47   \n",
       "218          Deniliquin -35.5333  144.9667  25.56      0        1.34   \n",
       "231           Hong Kong  22.2855  114.1577  22.39      0        4.12   \n",
       "243    Puerto Escondido  15.8500  -97.0667  24.79      2        2.32   \n",
       "272              Zhuhai  22.2769  113.5678  25.46      0        2.57   \n",
       "273              Rājula  21.0500   71.4333  25.32      0        6.49   \n",
       "\n",
       "     Humidity  Hotel Name  \n",
       "4          77         NaN  \n",
       "23         38         NaN  \n",
       "49         77         NaN  \n",
       "51         88         NaN  \n",
       "73         68         NaN  \n",
       "74         24         NaN  \n",
       "77         83         NaN  \n",
       "82         18         NaN  \n",
       "90         70         NaN  \n",
       "91         42         NaN  \n",
       "113        49         NaN  \n",
       "116        40         NaN  \n",
       "161        55         NaN  \n",
       "202        94         NaN  \n",
       "203        38         NaN  \n",
       "206        38         NaN  \n",
       "218        37         NaN  \n",
       "231        32         NaN  \n",
       "243        75         NaN  \n",
       "272        78         NaN  \n",
       "273        23         NaN  "
      ],
      "text/html": "<div>\n<style scoped>\n    .dataframe tbody tr th:only-of-type {\n        vertical-align: middle;\n    }\n\n    .dataframe tbody tr th {\n        vertical-align: top;\n    }\n\n    .dataframe thead th {\n        text-align: right;\n    }\n</style>\n<table border=\"1\" class=\"dataframe\">\n  <thead>\n    <tr style=\"text-align: right;\">\n      <th></th>\n      <th>city</th>\n      <th>lat</th>\n      <th>lon</th>\n      <th>temp</th>\n      <th>cloud</th>\n      <th>Wind speed</th>\n      <th>Humidity</th>\n      <th>Hotel Name</th>\n    </tr>\n  </thead>\n  <tbody>\n    <tr>\n      <th>4</th>\n      <td>Acapulco de Juárez</td>\n      <td>16.8634</td>\n      <td>-99.8901</td>\n      <td>23.79</td>\n      <td>0</td>\n      <td>1.53</td>\n      <td>77</td>\n      <td>NaN</td>\n    </tr>\n    <tr>\n      <th>23</th>\n      <td>Te Anau</td>\n      <td>-45.4167</td>\n      <td>167.7167</td>\n      <td>23.25</td>\n      <td>0</td>\n      <td>3.36</td>\n      <td>38</td>\n      <td>NaN</td>\n    </tr>\n    <tr>\n      <th>49</th>\n      <td>Port Elizabeth</td>\n      <td>-33.9180</td>\n      <td>25.5701</td>\n      <td>20.00</td>\n      <td>0</td>\n      <td>5.14</td>\n      <td>77</td>\n      <td>NaN</td>\n    </tr>\n    <tr>\n      <th>51</th>\n      <td>Imbituba</td>\n      <td>-28.2400</td>\n      <td>-48.6703</td>\n      <td>20.00</td>\n      <td>0</td>\n      <td>1.54</td>\n      <td>88</td>\n      <td>NaN</td>\n    </tr>\n    <tr>\n      <th>73</th>\n      <td>Faanui</td>\n      <td>-16.4833</td>\n      <td>-151.7500</td>\n      <td>28.04</td>\n      <td>1</td>\n      <td>4.75</td>\n      <td>68</td>\n      <td>NaN</td>\n    </tr>\n    <tr>\n      <th>74</th>\n      <td>Bhachāu</td>\n      <td>23.2833</td>\n      <td>70.3500</td>\n      <td>23.77</td>\n      <td>0</td>\n      <td>6.20</td>\n      <td>24</td>\n      <td>NaN</td>\n    </tr>\n    <tr>\n      <th>77</th>\n      <td>El Salvador</td>\n      <td>13.8333</td>\n      <td>-88.9167</td>\n      <td>22.00</td>\n      <td>0</td>\n      <td>1.54</td>\n      <td>83</td>\n      <td>NaN</td>\n    </tr>\n    <tr>\n      <th>82</th>\n      <td>Tezu</td>\n      <td>27.9167</td>\n      <td>96.1667</td>\n      <td>25.20</td>\n      <td>5</td>\n      <td>1.99</td>\n      <td>18</td>\n      <td>NaN</td>\n    </tr>\n    <tr>\n      <th>90</th>\n      <td>Saint-Philippe</td>\n      <td>-21.3585</td>\n      <td>55.7679</td>\n      <td>26.29</td>\n      <td>0</td>\n      <td>2.57</td>\n      <td>70</td>\n      <td>NaN</td>\n    </tr>\n    <tr>\n      <th>91</th>\n      <td>Cootamundra</td>\n      <td>-34.6500</td>\n      <td>148.0333</td>\n      <td>27.22</td>\n      <td>1</td>\n      <td>1.79</td>\n      <td>42</td>\n      <td>NaN</td>\n    </tr>\n    <tr>\n      <th>113</th>\n      <td>Makakilo City</td>\n      <td>21.3469</td>\n      <td>-158.0858</td>\n      <td>23.57</td>\n      <td>1</td>\n      <td>5.14</td>\n      <td>49</td>\n      <td>NaN</td>\n    </tr>\n    <tr>\n      <th>116</th>\n      <td>San Juan</td>\n      <td>-31.5375</td>\n      <td>-68.5364</td>\n      <td>27.17</td>\n      <td>0</td>\n      <td>5.00</td>\n      <td>40</td>\n      <td>NaN</td>\n    </tr>\n    <tr>\n      <th>161</th>\n      <td>Sur</td>\n      <td>22.5667</td>\n      <td>59.5289</td>\n      <td>21.14</td>\n      <td>0</td>\n      <td>2.46</td>\n      <td>55</td>\n      <td>NaN</td>\n    </tr>\n    <tr>\n      <th>202</th>\n      <td>Iquitos</td>\n      <td>-3.7481</td>\n      <td>-73.2472</td>\n      <td>24.00</td>\n      <td>0</td>\n      <td>0.33</td>\n      <td>94</td>\n      <td>NaN</td>\n    </tr>\n    <tr>\n      <th>203</th>\n      <td>Teknāf</td>\n      <td>20.8624</td>\n      <td>92.3058</td>\n      <td>25.71</td>\n      <td>0</td>\n      <td>6.15</td>\n      <td>38</td>\n      <td>NaN</td>\n    </tr>\n    <tr>\n      <th>206</th>\n      <td>Cumbum</td>\n      <td>9.7333</td>\n      <td>77.3000</td>\n      <td>26.23</td>\n      <td>2</td>\n      <td>2.47</td>\n      <td>38</td>\n      <td>NaN</td>\n    </tr>\n    <tr>\n      <th>218</th>\n      <td>Deniliquin</td>\n      <td>-35.5333</td>\n      <td>144.9667</td>\n      <td>25.56</td>\n      <td>0</td>\n      <td>1.34</td>\n      <td>37</td>\n      <td>NaN</td>\n    </tr>\n    <tr>\n      <th>231</th>\n      <td>Hong Kong</td>\n      <td>22.2855</td>\n      <td>114.1577</td>\n      <td>22.39</td>\n      <td>0</td>\n      <td>4.12</td>\n      <td>32</td>\n      <td>NaN</td>\n    </tr>\n    <tr>\n      <th>243</th>\n      <td>Puerto Escondido</td>\n      <td>15.8500</td>\n      <td>-97.0667</td>\n      <td>24.79</td>\n      <td>2</td>\n      <td>2.32</td>\n      <td>75</td>\n      <td>NaN</td>\n    </tr>\n    <tr>\n      <th>272</th>\n      <td>Zhuhai</td>\n      <td>22.2769</td>\n      <td>113.5678</td>\n      <td>25.46</td>\n      <td>0</td>\n      <td>2.57</td>\n      <td>78</td>\n      <td>NaN</td>\n    </tr>\n    <tr>\n      <th>273</th>\n      <td>Rājula</td>\n      <td>21.0500</td>\n      <td>71.4333</td>\n      <td>25.32</td>\n      <td>0</td>\n      <td>6.49</td>\n      <td>23</td>\n      <td>NaN</td>\n    </tr>\n  </tbody>\n</table>\n</div>"
     },
     "metadata": {},
     "execution_count": 9
    }
   ],
   "source": [
    "Hotel_df = Vacation_df\n",
    "Hotel_df['Hotel Name'] = np.nan\n",
    "Hotel_df\n"
   ]
  },
  {
   "cell_type": "code",
   "execution_count": 22,
   "metadata": {},
   "outputs": [],
   "source": [
    "params = {\n",
    "    \"radius\": 5000,\n",
    "    \"types\": \"lodging\",\n",
    "    \"key\": g_key\n",
    "    }\n",
    "\n",
    "for index, row in Hotel_df.iterrows():\n",
    "    # get lat, lng from df\n",
    "    lat = row[\"lat\"]\n",
    "    lng = row[\"lon\"]\n",
    "\n",
    "    params[\"location\"] = f'{lat},{lng}'\n",
    "    base_url = \"https://maps.googleapis.com/maps/api/place/nearbysearch/json\"\n",
    "    \n",
    "    response = requests.get(base_url, params=params).json()\n",
    "    results = response['results']\n",
    "    try:\n",
    "        Hotel_df.loc[index, 'Hotel Name'] = results[0]['name']\n",
    "    except:\n",
    "        Hotel_df.loc[index, 'Hotel Name'] = np.nan\n"
   ]
  },
  {
   "cell_type": "code",
   "execution_count": 23,
   "metadata": {},
   "outputs": [
    {
     "output_type": "execute_result",
     "data": {
      "text/plain": [
       "                  city      lat       lon   temp  cloud  Wind speed  Humidity  \\\n",
       "4   Acapulco de Juárez  16.8634  -99.8901  23.79      0        1.53        77   \n",
       "23             Te Anau -45.4167  167.7167  23.25      0        3.36        38   \n",
       "49      Port Elizabeth -33.9180   25.5701  20.00      0        5.14        77   \n",
       "51            Imbituba -28.2400  -48.6703  20.00      0        1.54        88   \n",
       "73              Faanui -16.4833 -151.7500  28.04      1        4.75        68   \n",
       "\n",
       "                            Hotel Name  \n",
       "4            HS Hotsson Smart Acapulco  \n",
       "23             Kingsgate Hotel Te Anau  \n",
       "49              39 On Nile Guest House  \n",
       "51                Praia Hotel Imbituba  \n",
       "73  Bora-Bora Pearl Beach Resort & Spa  "
      ],
      "text/html": "<div>\n<style scoped>\n    .dataframe tbody tr th:only-of-type {\n        vertical-align: middle;\n    }\n\n    .dataframe tbody tr th {\n        vertical-align: top;\n    }\n\n    .dataframe thead th {\n        text-align: right;\n    }\n</style>\n<table border=\"1\" class=\"dataframe\">\n  <thead>\n    <tr style=\"text-align: right;\">\n      <th></th>\n      <th>city</th>\n      <th>lat</th>\n      <th>lon</th>\n      <th>temp</th>\n      <th>cloud</th>\n      <th>Wind speed</th>\n      <th>Humidity</th>\n      <th>Hotel Name</th>\n    </tr>\n  </thead>\n  <tbody>\n    <tr>\n      <th>4</th>\n      <td>Acapulco de Juárez</td>\n      <td>16.8634</td>\n      <td>-99.8901</td>\n      <td>23.79</td>\n      <td>0</td>\n      <td>1.53</td>\n      <td>77</td>\n      <td>HS Hotsson Smart Acapulco</td>\n    </tr>\n    <tr>\n      <th>23</th>\n      <td>Te Anau</td>\n      <td>-45.4167</td>\n      <td>167.7167</td>\n      <td>23.25</td>\n      <td>0</td>\n      <td>3.36</td>\n      <td>38</td>\n      <td>Kingsgate Hotel Te Anau</td>\n    </tr>\n    <tr>\n      <th>49</th>\n      <td>Port Elizabeth</td>\n      <td>-33.9180</td>\n      <td>25.5701</td>\n      <td>20.00</td>\n      <td>0</td>\n      <td>5.14</td>\n      <td>77</td>\n      <td>39 On Nile Guest House</td>\n    </tr>\n    <tr>\n      <th>51</th>\n      <td>Imbituba</td>\n      <td>-28.2400</td>\n      <td>-48.6703</td>\n      <td>20.00</td>\n      <td>0</td>\n      <td>1.54</td>\n      <td>88</td>\n      <td>Praia Hotel Imbituba</td>\n    </tr>\n    <tr>\n      <th>73</th>\n      <td>Faanui</td>\n      <td>-16.4833</td>\n      <td>-151.7500</td>\n      <td>28.04</td>\n      <td>1</td>\n      <td>4.75</td>\n      <td>68</td>\n      <td>Bora-Bora Pearl Beach Resort &amp; Spa</td>\n    </tr>\n  </tbody>\n</table>\n</div>"
     },
     "metadata": {},
     "execution_count": 23
    }
   ],
   "source": [
    "Hotel_df.head()"
   ]
  },
  {
   "cell_type": "code",
   "execution_count": 2,
   "metadata": {},
   "outputs": [],
   "source": [
    "info_box_template = \"\"\"\n",
    "<dl>\n",
    "<dt>Name</dt><dd>{Hotel Name}</dd>\n",
    "<dt>City</dt><dd>{City}</dd>\n",
    "<dt>Country</dt><dd>{Country}</dd>\n",
    "</dl>\n",
    "\"\"\"\n",
    "# Store the DataFrame Row\n",
    "# NOTE: be sure to update with your DataFrame name\n",
    "hotel_info = [info_box_template.format(**row) for index, row in Hotel_df.iterrows()]\n",
    "locations = Hotel_df[[\"lat\", \"lon\"]]\n",
    "\n",
    "\n",
    "markers = gmaps.marker_layer(locations,\n",
    "    info_box_content=hotel_info)\n",
    "fig.add_layer(markers)"
   ]
  },
  {
   "cell_type": "code",
   "execution_count": null,
   "metadata": {},
   "outputs": [],
   "source": []
  }
 ]
}